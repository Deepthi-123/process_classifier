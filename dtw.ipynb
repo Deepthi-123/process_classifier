{
 "cells": [
  {
   "cell_type": "code",
   "execution_count": 2,
   "metadata": {},
   "outputs": [
    {
     "name": "stderr",
     "output_type": "stream",
     "text": [
      "/home/deepthi/.local/lib/python2.7/site-packages/pandas/core/computation/check.py:17: UserWarning: The installed version of numexpr 2.4.3 is not supported in pandas and will be not be used\n",
      "The minimum supported version is 2.4.6\n",
      "\n",
      "  ver=ver, min_ver=_MIN_NUMEXPR_VERSION), UserWarning)\n"
     ]
    }
   ],
   "source": [
    "import pandas\n",
    "from pandas.tools.plotting import scatter_matrix\n",
    "import matplotlib.pyplot as plt\n",
    "import numpy as np\n",
    "import csv\n",
    "names = ['eventtime', 'msg_stamp', 'symbols','eigen_force']\n",
    "dataset = pandas.read_csv('/home/deepthi/task1_eig/lab1_0.log', names = names, delim_whitespace = False)#read the final_wrench.log file\n",
    "#dataset.to_csv('/home/deepthi/wrench_test_check.log',index=True, sep='\\t', mode='w') #and write to final_wrench_mod. Dataframe created for ease of data manip\n",
    "dataset['time_stamp'] = dataset['eventtime'].map(str)+'.'+ dataset['msg_stamp'].map(str)\n",
    "dataset['time_stamp']\n",
    "del dataset['eventtime']\n",
    "del dataset['msg_stamp']\n",
    "cols = dataset.columns.tolist()\n",
    "del dataset['symbols']\n",
    "eigen = pandas.Series(dataset['eigen_force'])\n",
    "\n",
    "dataset1 = pandas.read_csv('/home/deepthi/task1_eig/lab1_1.log', names = names, delim_whitespace = False)#read the final_wrench.log file\n",
    "#dataset.to_csv('/home/deepthi/wrench_test_check.log',index=True, sep='\\t', mode='w') #and write to final_wrench_mod. Dataframe created for ease of data manip\n",
    "dataset1['time_stamp'] = dataset1['eventtime'].map(str)+'.'+ dataset1['msg_stamp'].map(str)\n",
    "dataset1['time_stamp']\n",
    "del dataset1['eventtime']\n",
    "del dataset1['msg_stamp']\n",
    "cols = dataset1.columns.tolist()\n",
    "del dataset1['symbols']\n",
    "eigen1 = pandas.Series(dataset1['eigen_force'])\n",
    "\n",
    "dataset2 = pandas.read_csv('/home/deepthi/task1_eig/lab1_2.log', names = names, delim_whitespace = False)#read the final_wrench.log file\n",
    "#dataset.to_csv('/home/deepthi/wrench_test_check.log',index=True, sep='\\t', mode='w') #and write to final_wrench_mod. Dataframe created for ease of data manip\n",
    "dataset2['time_stamp'] = dataset2['eventtime'].map(str)+'.'+ dataset2['msg_stamp'].map(str)\n",
    "dataset2['time_stamp']\n",
    "del dataset2['eventtime']\n",
    "del dataset2['msg_stamp']\n",
    "cols = dataset2.columns.tolist()\n",
    "del dataset2['symbols']\n",
    "eigen2 = pandas.Series(dataset2['eigen_force'])\n",
    "\n",
    "dataset3 = pandas.read_csv('/home/deepthi/task1_eig/lab1_3.log', names = names, delim_whitespace = False)#read the final_wrench.log file\n",
    "#dataset.to_csv('/home/deepthi/wrench_test_check.log',index=True, sep='\\t', mode='w') #and write to final_wrench_mod. Dataframe created for ease of data manip\n",
    "dataset3['time_stamp'] = dataset3['eventtime'].map(str)+'.'+ dataset3['msg_stamp'].map(str)\n",
    "dataset3['time_stamp']\n",
    "del dataset3['eventtime']\n",
    "del dataset3['msg_stamp']\n",
    "cols = dataset3.columns.tolist()\n",
    "del dataset3['symbols']\n",
    "eigen3 = pandas.Series(dataset3['eigen_force'])\n",
    "\n",
    "dataset4 = pandas.read_csv('/home/deepthi/task1_eig/lab1_4.log', names = names, delim_whitespace = False)#read the final_wrench.log file\n",
    "#dataset.to_csv('/home/deepthi/wrench_test_check.log',index=True, sep='\\t', mode='w') #and write to final_wrench_mod. Dataframe created for ease of data manip\n",
    "dataset4['time_stamp'] = dataset4['eventtime'].map(str)+'.'+ dataset4['msg_stamp'].map(str)\n",
    "dataset4['time_stamp']\n",
    "del dataset4['eventtime']\n",
    "del dataset4['msg_stamp']\n",
    "cols = dataset4.columns.tolist()\n",
    "del dataset4['symbols']\n",
    "eigen4 = pandas.Series(dataset4['eigen_force'])\n",
    "\n",
    "dataset5 = pandas.read_csv('/home/deepthi/task1_eig/lab1_5.log', names = names, delim_whitespace = False)#read the final_wrench.log file\n",
    "#dataset.to_csv('/home/deepthi/wrench_test_check.log',index=True, sep='\\t', mode='w') #and write to final_wrench_mod. Dataframe created for ease of data manip\n",
    "dataset5['time_stamp'] = dataset5['eventtime'].map(str)+'.'+ dataset5['msg_stamp'].map(str)\n",
    "dataset5['time_stamp']\n",
    "del dataset5['eventtime']\n",
    "del dataset5['msg_stamp']\n",
    "cols = dataset5.columns.tolist()\n",
    "del dataset5['symbols']\n",
    "eigen5 = pandas.Series(dataset5['eigen_force'])\n",
    "\n",
    "dataset6 = pandas.read_csv('/home/deepthi/task1_eig/lab1_6.log', names = names, delim_whitespace = False)#read the final_wrench.log file\n",
    "#dataset.to_csv('/home/deepthi/wrench_test_check.log',index=True, sep='\\t', mode='w') #and write to final_wrench_mod. Dataframe created for ease of data manip\n",
    "dataset6['time_stamp'] = dataset6['eventtime'].map(str)+'.'+ dataset6['msg_stamp'].map(str)\n",
    "dataset6['time_stamp']\n",
    "del dataset6['eventtime']\n",
    "del dataset6['msg_stamp']\n",
    "cols = dataset6.columns.tolist()\n",
    "del dataset6['symbols']\n",
    "eigen6 = pandas.Series(dataset6['eigen_force'])\n",
    "\n",
    "dataset7 = pandas.read_csv('/home/deepthi/task1_eig/lab1_7.log', names = names, delim_whitespace = False)#read the final_wrench.log file\n",
    "#dataset.to_csv('/home/deepthi/wrench_test_check.log',index=True, sep='\\t', mode='w') #and write to final_wrench_mod. Dataframe created for ease of data manip\n",
    "dataset7['time_stamp'] = dataset7['eventtime'].map(str)+'.'+ dataset7['msg_stamp'].map(str)\n",
    "dataset7['time_stamp']\n",
    "del dataset7['eventtime']\n",
    "del dataset7['msg_stamp']\n",
    "cols = dataset7.columns.tolist()\n",
    "del dataset7['symbols']\n",
    "eigen7 = pandas.Series(dataset7['eigen_force'])\n",
    "\n",
    "test_0 = pandas.read_csv('/home/deepthi/task1_eig/lab1_t0.log', names = names, delim_whitespace = False)#read the final_wrench.log file\n",
    "#dataset.to_csv('/home/deepthi/wrench_test_check.log',index=True, sep='\\t', mode='w') #and write to final_wrench_mod. Dataframe created for ease of data manip\n",
    "test_0['time_stamp'] = test_0['eventtime'].map(str)+'.'+ test_0['msg_stamp'].map(str)\n",
    "test_0['time_stamp']\n",
    "del test_0['eventtime']\n",
    "del test_0['msg_stamp']\n",
    "cols = test_0.columns.tolist()\n",
    "del test_0['symbols']\n",
    "eigen_t0 = pandas.Series(test_0['eigen_force'])\n",
    "\n",
    "test_1 = pandas.read_csv('/home/deepthi/task1_eig/lab1_t1.log', names = names, delim_whitespace = False)#read the final_wrench.log file\n",
    "#dataset.to_csv('/home/deepthi/wrench_test_check.log',index=True, sep='\\t', mode='w') #and write to final_wrench_mod. Dataframe created for ease of data manip\n",
    "test_1['time_stamp'] = test_1['eventtime'].map(str)+'.'+ test_1['msg_stamp'].map(str)\n",
    "test_1['time_stamp']\n",
    "del test_1['eventtime']\n",
    "del test_1['msg_stamp']\n",
    "cols = test_1.columns.tolist()\n",
    "del test_1['symbols']\n",
    "eigen_t1 = pandas.Series(test_1['eigen_force'])\n",
    "\n",
    "test_2 = pandas.read_csv('/home/deepthi/task1_eig/lab1_t2.log', names = names, delim_whitespace = False)#read the final_wrench.log file\n",
    "#dataset.to_csv('/home/deepthi/wrench_test_check.log',index=True, sep='\\t', mode='w') #and write to final_wrench_mod. Dataframe created for ease of data manip\n",
    "test_2['time_stamp'] = test_2['eventtime'].map(str)+'.'+ test_2['msg_stamp'].map(str)\n",
    "test_2['time_stamp']\n",
    "del test_2['eventtime']\n",
    "del test_2['msg_stamp']\n",
    "cols = test_2.columns.tolist()\n",
    "del test_2['symbols']\n",
    "eigen_t2 = pandas.Series(test_2['eigen_force'])\n",
    "\n",
    "test_3 = pandas.read_csv('/home/deepthi/task1_eig/lab1_t3.log', names = names, delim_whitespace = False)#read the final_wrench.log file\n",
    "#dataset.to_csv('/home/deepthi/wrench_test_check.log',index=True, sep='\\t', mode='w') #and write to final_wrench_mod. Dataframe created for ease of data manip\n",
    "test_3['time_stamp'] = test_3['eventtime'].map(str)+'.'+ test_3['msg_stamp'].map(str)\n",
    "test_3['time_stamp']\n",
    "del test_3['eventtime']\n",
    "del test_3['msg_stamp']\n",
    "cols = test_3.columns.tolist()\n",
    "del test_3['symbols']\n",
    "eigen_t3 = pandas.Series(test_3['eigen_force'])\n"
   ]
  },
  {
   "cell_type": "code",
   "execution_count": 3,
   "metadata": {},
   "outputs": [],
   "source": [
    "def DTWDistance(s1, s2,w):\n",
    "    DTW={}\n",
    "\n",
    "    w = max(w, abs(len(s1)-len(s2)))\n",
    "\n",
    "    for i in range(-1,len(s1)):\n",
    "        for j in range(-1,len(s2)):\n",
    "            DTW[(i, j)] = float('inf')\n",
    "    DTW[(-1, -1)] = 0\n",
    "\n",
    "    for i in range(len(s1)):\n",
    "        for j in range(max(0, i-w), min(len(s2), i+w)):\n",
    "            dist= (s1[i]-s2[j])**2\n",
    "            DTW[(i, j)] = dist + min(DTW[(i-1, j)],DTW[(i, j-1)], DTW[(i-1, j-1)])\n",
    "\n",
    "    return np.sqrt(DTW[len(s1)-1, len(s2)-1])"
   ]
  },
  {
   "cell_type": "code",
   "execution_count": 24,
   "metadata": {},
   "outputs": [
    {
     "data": {
      "text/plain": [
       "inf"
      ]
     },
     "execution_count": 24,
     "metadata": {},
     "output_type": "execute_result"
    }
   ],
   "source": [
    "DTWDistance(eigen1, eigen_t2, 15)\n",
    "    \n"
   ]
  },
  {
   "cell_type": "code",
   "execution_count": 25,
   "metadata": {},
   "outputs": [
    {
     "data": {
      "text/plain": [
       "<matplotlib.axes._subplots.AxesSubplot at 0x7fb47a6389d0>"
      ]
     },
     "execution_count": 25,
     "metadata": {},
     "output_type": "execute_result"
    },
    {
     "data": {
      "image/png": "[encoded data removed]",
      "text/plain": [
       "<matplotlib.figure.Figure at 0x7fb47786ca90>"
      ]
     },
     "metadata": {},
     "output_type": "display_data"
    }
   ],
   "source": [
    "eigen_t3.plot()\n",
    "eigen2.plot()\n",
    "#eigen_t0.plot()"
   ]
  },
  {
   "cell_type": "code",
   "execution_count": 87,
   "metadata": {},
   "outputs": [],
   "source": []
  },
  {
   "cell_type": "code",
   "execution_count": null,
   "metadata": {},
   "outputs": [],
   "source": [
    "\n",
    "    "
   ]
  },
  {
   "cell_type": "code",
   "execution_count": null,
   "metadata": {},
   "outputs": [],
   "source": []
  },
  {
   "cell_type": "code",
   "execution_count": null,
   "metadata": {},
   "outputs": [],
   "source": []
  },
  {
   "cell_type": "code",
   "execution_count": null,
   "metadata": {},
   "outputs": [],
   "source": []
  },
  {
   "cell_type": "code",
   "execution_count": null,
   "metadata": {},
   "outputs": [],
   "source": []
  },
  {
   "cell_type": "code",
   "execution_count": null,
   "metadata": {},
   "outputs": [],
   "source": []
  },
  {
   "cell_type": "code",
   "execution_count": null,
   "metadata": {},
   "outputs": [],
   "source": []
  }
 ],
 "metadata": {
  "kernelspec": {
   "display_name": "Python 2",
   "language": "python",
   "name": "python2"
  },
  "language_info": {
   "codemirror_mode": {
    "name": "ipython",
    "version": 2
   },
   "file_extension": ".py",
   "mimetype": "text/x-python",
   "name": "python",
   "nbconvert_exporter": "python",
   "pygments_lexer": "ipython2",
   "version": "2.7.12"
  }
 },
 "nbformat": 4,
 "nbformat_minor": 2
}
